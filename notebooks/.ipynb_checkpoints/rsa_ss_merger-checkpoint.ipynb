{
 "cells": [
  {
   "cell_type": "code",
   "execution_count": null,
   "metadata": {},
   "outputs": [
    {
     "ename": "FileNotFoundError",
     "evalue": "[Errno 2] No such file or directory: 'data/rsa/'",
     "output_type": "error",
     "traceback": [
      "\u001b[0;31m---------------------------------------------------------------------------\u001b[0m",
      "\u001b[0;31mFileNotFoundError\u001b[0m                         Traceback (most recent call last)",
      "Cell \u001b[0;32mIn[3], line 10\u001b[0m\n\u001b[1;32m      7\u001b[0m output_dir \u001b[38;5;241m=\u001b[39m \u001b[38;5;124m'\u001b[39m\u001b[38;5;124mdata/\u001b[39m\u001b[38;5;124m'\u001b[39m\n\u001b[1;32m      9\u001b[0m \u001b[38;5;66;03m# Loop through RSA files\u001b[39;00m\n\u001b[0;32m---> 10\u001b[0m \u001b[38;5;28;01mfor\u001b[39;00m rsa_file \u001b[38;5;129;01min\u001b[39;00m \u001b[43mos\u001b[49m\u001b[38;5;241;43m.\u001b[39;49m\u001b[43mlistdir\u001b[49m\u001b[43m(\u001b[49m\u001b[43mrsa_dir\u001b[49m\u001b[43m)\u001b[49m:\n\u001b[1;32m     11\u001b[0m     \u001b[38;5;66;03m# Get protein name\u001b[39;00m\n\u001b[1;32m     12\u001b[0m     protein_name \u001b[38;5;241m=\u001b[39m rsa_file\u001b[38;5;241m.\u001b[39msplit(\u001b[38;5;124m'\u001b[39m\u001b[38;5;124m_\u001b[39m\u001b[38;5;124m'\u001b[39m)[\u001b[38;5;241m0\u001b[39m]\n\u001b[1;32m     14\u001b[0m     \u001b[38;5;66;03m# Load RSA data\u001b[39;00m\n",
      "\u001b[0;31mFileNotFoundError\u001b[0m: [Errno 2] No such file or directory: 'data/rsa/'"
     ]
    }
   ],
   "source": [
    "import pandas as pd\n",
    "import os\n",
    "\n",
    "# Directories\n",
    "rsa_dir = 'data/rsa'\n",
    "ss_dir = 'data/ss'\n",
    "output_dir = 'data/'\n",
    "\n",
    "# Loop through RSA files\n",
    "for rsa_file in os.listdir(rsa_dir):\n",
    "    # Get protein name\n",
    "    protein_name = rsa_file.split('_')[0]\n",
    "\n",
    "    # Load RSA data\n",
    "    rsa_df = pd.read_csv(os.path.join(rsa_dir, rsa_file), sep='\\t')\n",
    "\n",
    "    # Load corresponding SS data\n",
    "    ss_file = protein_name + '_ss.tsv'\n",
    "    ss_df = pd.read_csv(os.path.join(ss_dir, ss_file), sep='\\t')\n",
    "\n",
    "    # Merge dataframes\n",
    "    merged_df = pd.merge(rsa_df, ss_df, on=['dssp_index', 'aa'])\n",
    "\n",
    "    # Add protein name column\n",
    "    merged_df['Protein_id'] = protein_name\n",
    "\n",
    "    # Reorder columns\n",
    "    merged_df = merged_df[['dssp_index', 'Protein_id', 'chain', 'aa', 'eight_hot_ss', 'three_hot_ss', 'rsa', 'phi', 'psi']]\n",
    "\n",
    "    # Save to CSV\n",
    "    output_file = protein_name + '_dssp.csv'\n",
    "    merged_df.to_csv(os.path.join(output_dir, output_file), index=False)\n"
   ]
  }
 ],
 "metadata": {
  "kernelspec": {
   "display_name": "ml",
   "language": "python",
   "name": "python3"
  },
  "language_info": {
   "codemirror_mode": {
    "name": "ipython",
    "version": 3
   },
   "file_extension": ".py",
   "mimetype": "text/x-python",
   "name": "python",
   "nbconvert_exporter": "python",
   "pygments_lexer": "ipython3",
   "version": "3.10.14"
  }
 },
 "nbformat": 4,
 "nbformat_minor": 2
}
