{
 "cells": [
  {
   "cell_type": "markdown",
   "metadata": {},
   "source": [
    "Modify sample DSSP files to have a placeholder interaction score for now"
   ]
  },
  {
   "cell_type": "code",
   "execution_count": 10,
   "metadata": {},
   "outputs": [],
   "source": [
    "import os\n",
    "import pandas as pd\n",
    "\n",
    "def modify_dssp_files(data_dir):\n",
    "    for file in os.listdir(data_dir):\n",
    "        if file.endswith('_dssp.csv'):\n",
    "            file_path = os.path.join(data_dir, file)\n",
    "            df = pd.read_csv(file_path)\n",
    "            df['test_interaction_score'] = df['rsa'].apply(lambda x: 1 if x > 0.25 else 0)\n",
    "            df.to_csv(file_path, index=False)\n",
    "\n",
    "# Construct the relative path to the data directory\n",
    "data_dir = os.path.join(os.getcwd(), '..', 'data')\n",
    "\n",
    "# Modify the DSSP files in the data directory\n",
    "modify_dssp_files(data_dir)"
   ]
  },
  {
   "cell_type": "code",
   "execution_count": 2,
   "metadata": {},
   "outputs": [],
   "source": [
    "import os\n",
    "import pandas as pd\n",
    "import numpy as np\n",
    "\n",
    "def sigmoid(x):\n",
    "    return 1 / (1 + np.exp(-x))\n",
    "\n",
    "def modify_dssp_files(data_dir):\n",
    "    for file in os.listdir(data_dir):\n",
    "        if file.endswith('_dssp.csv'):\n",
    "            file_path = os.path.join(data_dir, file)\n",
    "            df = pd.read_csv(file_path)\n",
    "\n",
    "            # Apply a transformation to create a more normal distribution\n",
    "            df['test_interaction_score'] = df['rsa'].apply(lambda x: sigmoid(x * 10 - 5))\n",
    "\n",
    "            df.to_csv(file_path, index=False)\n",
    "\n",
    "# Construct the relative path to the data directory\n",
    "data_dir = os.path.join(os.getcwd(), '..', 'data')\n",
    "\n",
    "# Modify the DSSP files in the data directory\n",
    "modify_dssp_files(data_dir)"
   ]
  },
  {
   "cell_type": "markdown",
   "metadata": {},
   "source": [
    "If u want to REMOVE that PLACEHOLDER please run the cell below to remove the interaction score from DSSP files"
   ]
  },
  {
   "cell_type": "code",
   "execution_count": 1,
   "metadata": {},
   "outputs": [
    {
     "name": "stdout",
     "output_type": "stream",
     "text": [
      "Columns in 1B41_dssp.csv: ['dssp_index', 'Protein_id', 'chain', 'aa', 'eight_hot_ss', 'three_hot_ss', 'rsa', 'phi', 'psi', 'test_interaction_score', 'avg_volume_buried', 'norm_vdw_volume', 'num_hb_donors', 'positive_charge', 'negative_charge', 'avg_accessible_surface_area', 'hydrophobicity', 'avg_interactions_per_atom', 'polarity']\n",
      "Columns in 2A74_dssp.csv: ['dssp_index', 'Protein_id', 'chain', 'aa', 'eight_hot_ss', 'three_hot_ss', 'rsa', 'phi', 'psi', 'test_interaction_score', 'avg_volume_buried', 'norm_vdw_volume', 'num_hb_donors', 'positive_charge', 'negative_charge', 'avg_accessible_surface_area', 'hydrophobicity', 'avg_interactions_per_atom', 'polarity']\n",
      "Columns in 2ACH_dssp.csv: ['dssp_index', 'Protein_id', 'chain', 'aa', 'eight_hot_ss', 'three_hot_ss', 'rsa', 'phi', 'psi', 'test_interaction_score', 'avg_volume_buried', 'norm_vdw_volume', 'num_hb_donors', 'positive_charge', 'negative_charge', 'avg_accessible_surface_area', 'hydrophobicity', 'avg_interactions_per_atom', 'polarity']\n",
      "Columns in 2B4X_dssp.csv: ['dssp_index', 'Protein_id', 'chain', 'aa', 'eight_hot_ss', 'three_hot_ss', 'rsa', 'phi', 'psi', 'test_interaction_score', 'avg_volume_buried', 'norm_vdw_volume', 'num_hb_donors', 'positive_charge', 'negative_charge', 'avg_accessible_surface_area', 'hydrophobicity', 'avg_interactions_per_atom', 'polarity']\n",
      "Columns in 2OYI_dssp.csv: ['dssp_index', 'Protein_id', 'chain', 'aa', 'eight_hot_ss', 'three_hot_ss', 'rsa', 'phi', 'psi', 'test_interaction_score', 'avg_volume_buried', 'norm_vdw_volume', 'num_hb_donors', 'positive_charge', 'negative_charge', 'avg_accessible_surface_area', 'hydrophobicity', 'avg_interactions_per_atom', 'polarity']\n",
      "Columns in 2WII_dssp.csv: ['dssp_index', 'Protein_id', 'chain', 'aa', 'eight_hot_ss', 'three_hot_ss', 'rsa', 'phi', 'psi', 'test_interaction_score', 'avg_volume_buried', 'norm_vdw_volume', 'num_hb_donors', 'positive_charge', 'negative_charge', 'avg_accessible_surface_area', 'hydrophobicity', 'avg_interactions_per_atom', 'polarity']\n",
      "Columns in 2XWT_dssp.csv: ['dssp_index', 'Protein_id', 'chain', 'aa', 'eight_hot_ss', 'three_hot_ss', 'rsa', 'phi', 'psi', 'test_interaction_score', 'avg_volume_buried', 'norm_vdw_volume', 'num_hb_donors', 'positive_charge', 'negative_charge', 'avg_accessible_surface_area', 'hydrophobicity', 'avg_interactions_per_atom', 'polarity']\n",
      "Columns in 3HRZ_dssp.csv: ['dssp_index', 'Protein_id', 'chain', 'aa', 'eight_hot_ss', 'three_hot_ss', 'rsa', 'phi', 'psi', 'test_interaction_score', 'avg_volume_buried', 'norm_vdw_volume', 'num_hb_donors', 'positive_charge', 'negative_charge', 'avg_accessible_surface_area', 'hydrophobicity', 'avg_interactions_per_atom', 'polarity']\n",
      "Columns in 5HCD_dssp.csv: ['dssp_index', 'Protein_id', 'chain', 'aa', 'eight_hot_ss', 'three_hot_ss', 'rsa', 'phi', 'psi', 'test_interaction_score', 'avg_volume_buried', 'norm_vdw_volume', 'num_hb_donors', 'positive_charge', 'negative_charge', 'avg_accessible_surface_area', 'hydrophobicity', 'avg_interactions_per_atom', 'polarity']\n",
      "Columns in 6D64_dssp.csv: ['dssp_index', 'Protein_id', 'chain', 'aa', 'eight_hot_ss', 'three_hot_ss', 'rsa', 'phi', 'psi', 'test_interaction_score', 'avg_volume_buried', 'norm_vdw_volume', 'num_hb_donors', 'positive_charge', 'negative_charge', 'avg_accessible_surface_area', 'hydrophobicity', 'avg_interactions_per_atom', 'polarity']\n"
     ]
    }
   ],
   "source": [
    "import os\n",
    "import pandas as pd\n",
    "\n",
    "def print_and_remove_columns(data_dir, columns_to_remove):\n",
    "    for file in os.listdir(data_dir):\n",
    "        if file.endswith('_dssp.csv'):\n",
    "            file_path = os.path.join(data_dir, file)\n",
    "            df = pd.read_csv(file_path)\n",
    "            print(f\"Columns in {file}: {df.columns.tolist()}\")\n",
    "\n",
    "            # Remove specified columns if they exist in the DataFrame\n",
    "            for column in columns_to_remove:\n",
    "                if column in df.columns:\n",
    "                    df = df.drop(columns=[column])\n",
    "\n",
    "            df.to_csv(file_path, index=False)\n",
    "\n",
    "# Construct the relative path to the data directory\n",
    "data_dir = os.path.join(os.getcwd(), '..', 'data')\n",
    "\n",
    "# Print the columns and specify the columns to remove\n",
    "columns_to_remove = ['test_interaction_score']  # Add more column names if needed\n",
    "print_and_remove_columns(data_dir, columns_to_remove)"
   ]
  },
  {
   "cell_type": "markdown",
   "metadata": {},
   "source": [
    "code to ADD physicochemical properties to the dssp files\n"
   ]
  },
  {
   "cell_type": "code",
   "execution_count": 27,
   "metadata": {},
   "outputs": [],
   "source": [
    "import os\n",
    "import pandas as pd\n",
    "\n",
    "def load_physicochemical_properties(file_path):\n",
    "    df = pd.read_csv(file_path)\n",
    "    df.set_index('Index', inplace=True)\n",
    "    return df\n",
    "\n",
    "def modify_dssp_files(data_dir, physicochemical_properties):\n",
    "    for file in os.listdir(data_dir):\n",
    "        if file.endswith('_dssp.csv'):\n",
    "            file_path = os.path.join(data_dir, file)\n",
    "            df = pd.read_csv(file_path)\n",
    "\n",
    "            # Add new columns for each physicochemical property\n",
    "            for property_name in physicochemical_properties.index:\n",
    "                df[property_name] = df['aa'].apply(lambda aa: physicochemical_properties.loc[property_name, aa])\n",
    "\n",
    "            df.to_csv(file_path, index=False)\n",
    "\n",
    "# Construct the relative path to the data directory\n",
    "data_dir = os.path.join(os.getcwd(), '..', 'data')  # Updated to match the correct relative path\n",
    "\n",
    "# Load the physicochemical properties\n",
    "physicochemical_properties_file = os.path.join(data_dir, 'physicochemical_properties.csv')\n",
    "physicochemical_properties = load_physicochemical_properties(physicochemical_properties_file)\n",
    "\n",
    "# Modify the DSSP files in the data directory\n",
    "modify_dssp_files(data_dir, physicochemical_properties)"
   ]
  },
  {
   "cell_type": "markdown",
   "metadata": {},
   "source": [
    "code to REMOVE physicochemical properties from the dssp files"
   ]
  },
  {
   "cell_type": "code",
   "execution_count": 1,
   "metadata": {},
   "outputs": [],
   "source": [
    "import os\n",
    "import pandas as pd\n",
    "\n",
    "def load_physicochemical_properties(file_path):\n",
    "    return pd.read_csv(file_path).set_index('Index')\n",
    "\n",
    "def remove_physicochemical_columns(data_dir, physicochemical_properties):\n",
    "    for file in os.listdir(data_dir):\n",
    "        if file.endswith('_dssp.csv'):\n",
    "            file_path = os.path.join(data_dir, file)\n",
    "            df = pd.read_csv(file_path)\n",
    "\n",
    "            # Remove the columns corresponding to physicochemical properties\n",
    "            for property_name in physicochemical_properties.index:\n",
    "                if property_name in df.columns:\n",
    "                    df.drop(columns=[property_name], inplace=True)\n",
    "\n",
    "            df.to_csv(file_path, index=False)\n",
    "\n",
    "# Construct the relative path to the data directory\n",
    "data_dir = os.path.join(os.getcwd(), '..', 'data')\n",
    "\n",
    "# Load the physicochemical properties\n",
    "physicochemical_properties_file = os.path.join(data_dir, 'physicochemical_properties.csv')\n",
    "physicochemical_properties = load_physicochemical_properties(physicochemical_properties_file)\n",
    "\n",
    "# Remove the physicochemical columns from the DSSP files in the data directory\n",
    "remove_physicochemical_columns(data_dir, physicochemical_properties)"
   ]
  },
  {
   "cell_type": "markdown",
   "metadata": {},
   "source": [
    "Transform the csv\n"
   ]
  },
  {
   "cell_type": "code",
   "execution_count": 9,
   "metadata": {},
   "outputs": [
    {
     "name": "stdout",
     "output_type": "stream",
     "text": [
      "Index  avg_volume_buried  norm_vdw_volume  num_hb_donors  positive_charge  \\\n",
      "-                    0.0             0.00            0.0              0.0   \n",
      "A                  115.0             2.87            0.0              0.0   \n",
      "C                  135.0             4.47            0.0              0.0   \n",
      "D                  150.0             4.74            4.0              1.0   \n",
      "E                  190.0             5.97            4.0              1.0   \n",
      "F                  210.0             4.62            0.0              0.0   \n",
      "G                   75.0             2.06            0.0              0.0   \n",
      "H                  195.0             5.23            1.0              0.0   \n",
      "I                  175.0             4.92            0.0              0.0   \n",
      "K                  200.0             6.89            1.0              0.0   \n",
      "L                  170.0             4.92            0.0              0.0   \n",
      "M                  185.0             6.36            0.0              0.0   \n",
      "N                  160.0             4.58            3.0              0.0   \n",
      "P                  145.0             4.11            0.0              0.0   \n",
      "Q                  180.0             6.11            3.0              0.0   \n",
      "R                  225.0             7.82            3.0              0.0   \n",
      "S                  115.0             3.97            2.0              0.0   \n",
      "T                  140.0             4.11            2.0              0.0   \n",
      "V                  155.0             4.11            0.0              0.0   \n",
      "W                  255.0             7.68            0.0              0.0   \n",
      "Y                  230.0             4.73            2.0              0.0   \n",
      "\n",
      "Index  negative_charge  avg_accessible_surface_area  hydrophobicity  \\\n",
      "-                 0.00                          0.0           0.000   \n",
      "A                 4.76                         51.0           0.305   \n",
      "C                 3.67                         74.0           0.339   \n",
      "D                 5.69                         19.0           0.335   \n",
      "E                 5.48                         16.0           0.282   \n",
      "F                 4.31                         58.0           0.195   \n",
      "G                 3.77                         52.0           0.352   \n",
      "H                 2.84                         34.0           0.215   \n",
      "I                 4.81                         66.0           0.278   \n",
      "K                 4.27                          3.0           0.391   \n",
      "L                 4.79                         60.0           0.262   \n",
      "M                 4.25                         52.0           0.280   \n",
      "N                 3.64                         22.0           0.322   \n",
      "P                 0.00                         25.0           0.346   \n",
      "Q                 4.54                         16.0           0.306   \n",
      "R                 4.30                          5.0           0.227   \n",
      "S                 3.83                         35.0           0.326   \n",
      "T                 3.87                         30.0           0.251   \n",
      "V                 4.86                         64.0           0.291   \n",
      "W                 4.75                         49.0           0.291   \n",
      "Y                 4.30                         24.0           0.293   \n",
      "\n",
      "Index  avg_interactions_per_atom  polarity  \n",
      "-                           0.00      0.00  \n",
      "A                           0.89      6.00  \n",
      "C                           0.85      5.05  \n",
      "D                           0.87      2.77  \n",
      "E                           0.84      3.22  \n",
      "F                           0.52      5.48  \n",
      "G                           0.92      5.97  \n",
      "H                           0.83      7.59  \n",
      "I                           0.76      6.02  \n",
      "K                           0.97      9.74  \n",
      "L                           0.73      5.98  \n",
      "M                           0.74      5.74  \n",
      "N                           0.89      5.41  \n",
      "P                           0.82      6.30  \n",
      "Q                           0.82      5.65  \n",
      "R                           0.88     10.76  \n",
      "S                           0.96      5.68  \n",
      "T                           0.92      5.66  \n",
      "V                           0.85      5.96  \n",
      "W                           0.20      5.89  \n",
      "Y                           0.49      5.66  \n"
     ]
    }
   ],
   "source": [
    "import pandas as pd\n",
    "\n",
    "# Step 1: Read the CSV data\n",
    "file_path = '../data/physicochemical_properties.csv'  # Update the file path to point to the correct location\n",
    "df = pd.read_csv(file_path, index_col=0)\n",
    "\n",
    "# Step 2: Transform the Data\n",
    "# Transpose the DataFrame to switch rows and columns\n",
    "df_transformed = df.transpose()\n",
    "\n",
    "# Step 3: Save the Data\n",
    "# Save the transformed DataFrame to a new CSV file\n",
    "transformed_file_path = '../data/transformed_physicochemical_properties.csv'\n",
    "df_transformed.to_csv(transformed_file_path)\n",
    "\n",
    "# Display the transformed DataFrame\n",
    "print(df_transformed)"
   ]
  },
  {
   "cell_type": "code",
   "execution_count": 8,
   "metadata": {},
   "outputs": [
    {
     "name": "stdout",
     "output_type": "stream",
     "text": [
      "/home/bibhuprasad/Documents/PPI prediction model/PPI-predictor-/notebooks\n"
     ]
    }
   ],
   "source": [
    "import os\n",
    "print(os.getcwd())"
   ]
  }
 ],
 "metadata": {
  "kernelspec": {
   "display_name": "Python 3 (ipykernel)",
   "language": "python",
   "name": "python3"
  },
  "language_info": {
   "codemirror_mode": {
    "name": "ipython",
    "version": 3
   },
   "file_extension": ".py",
   "mimetype": "text/x-python",
   "name": "python",
   "nbconvert_exporter": "python",
   "pygments_lexer": "ipython3",
   "version": "3.11.9"
  }
 },
 "nbformat": 4,
 "nbformat_minor": 4
}
