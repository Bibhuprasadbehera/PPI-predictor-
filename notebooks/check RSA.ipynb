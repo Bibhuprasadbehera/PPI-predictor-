{
 "cells": [
  {
   "cell_type": "code",
   "execution_count": 1,
   "metadata": {},
   "outputs": [
    {
     "name": "stdout",
     "output_type": "stream",
     "text": [
      "Requirement already satisfied: biopython in c:\\python312\\lib\\site-packages (1.84)\n",
      "Requirement already satisfied: numpy in c:\\python312\\lib\\site-packages (from biopython) (1.26.0)\n"
     ]
    }
   ],
   "source": [
    "#pip install biopython\n",
    "\n",
    "!pip install biopython"
   ]
  },
  {
   "cell_type": "code",
   "execution_count": 3,
   "metadata": {},
   "outputs": [
    {
     "ename": "FileNotFoundError",
     "evalue": "[WinError 3] The system cannot find the path specified: 'data'",
     "output_type": "error",
     "traceback": [
      "\u001b[1;31m---------------------------------------------------------------------------\u001b[0m",
      "\u001b[1;31mFileNotFoundError\u001b[0m                         Traceback (most recent call last)",
      "Cell \u001b[1;32mIn[3], line 30\u001b[0m\n\u001b[0;32m     27\u001b[0m pdb_directory \u001b[38;5;241m=\u001b[39m \u001b[38;5;124m\"\u001b[39m\u001b[38;5;124mdata\u001b[39m\u001b[38;5;124m\"\u001b[39m\n\u001b[0;32m     29\u001b[0m \u001b[38;5;66;03m# List all PDB files in the directory\u001b[39;00m\n\u001b[1;32m---> 30\u001b[0m pdb_files \u001b[38;5;241m=\u001b[39m [f \u001b[38;5;28;01mfor\u001b[39;00m f \u001b[38;5;129;01min\u001b[39;00m \u001b[43mos\u001b[49m\u001b[38;5;241;43m.\u001b[39;49m\u001b[43mlistdir\u001b[49m\u001b[43m(\u001b[49m\u001b[43mpdb_directory\u001b[49m\u001b[43m)\u001b[49m \u001b[38;5;28;01mif\u001b[39;00m f\u001b[38;5;241m.\u001b[39mendswith(\u001b[38;5;124m'\u001b[39m\u001b[38;5;124m.pdb\u001b[39m\u001b[38;5;124m'\u001b[39m)]\n\u001b[0;32m     32\u001b[0m \u001b[38;5;66;03m# Given protein sequence\u001b[39;00m\n\u001b[0;32m     33\u001b[0m sequence \u001b[38;5;241m=\u001b[39m \u001b[38;5;124m\"\u001b[39m\u001b[38;5;124mNKVQMHRSEMRPKFFSEHIISILNPHCVV\u001b[39m\u001b[38;5;124m\"\u001b[39m\n",
      "\u001b[1;31mFileNotFoundError\u001b[0m: [WinError 3] The system cannot find the path specified: 'data'"
     ]
    }
   ],
   "source": [
    "from Bio.PDB import PDBParser, DSSP\n",
    "import pandas as pd\n",
    "import os\n",
    "\n",
    "# Function to perform DSSP and return DataFrame\n",
    "def run_dssp(pdb_file_path):\n",
    "    parser = PDBParser(QUIET=True)\n",
    "    structure = parser.get_structure(os.path.basename(pdb_file_path).split('.')[0], pdb_file_path)\n",
    "    model = structure[0]\n",
    "    dssp = DSSP(model, pdb_file_path, dssp='mkdssp', acc_array='Sander')\n",
    "\n",
    "    # Prepare data for DataFrame\n",
    "    data = [(dssp[key][0],     # dssp_index\n",
    "             key[0],            # chain_id\n",
    "             dssp[key][1],     # aa (amino acid)\n",
    "             dssp[key][2],     # eight_hot_ss (secondary structure in eight definitions)\n",
    "             dssp[key][2].translate(str.maketrans('HGIEBTS-', 'HHHEECCC')),  # three_hot_ss (converted secondary structure)\n",
    "             dssp[key][3],     # rsa (Relative ASA)\n",
    "             dssp[key][4],     # phi (Phi angle)\n",
    "             dssp[key][5])     # psi (Psi angle)\n",
    "            for key in dssp.keys()]\n",
    "\n",
    "    df = pd.DataFrame(data, columns=['dssp_index', 'chain', 'aa', 'eight_hot_ss', 'three_hot_ss', 'rsa', 'phi', 'psi'])\n",
    "    return df\n",
    "\n",
    "# Directory containing PDB files\n",
    "pdb_directory = \"data\"\n",
    "\n",
    "# List all PDB files in the directory\n",
    "pdb_files = [f for f in os.listdir(pdb_directory) if f.endswith('.pdb')]\n",
    "\n",
    "# Given protein sequence\n",
    "sequence = \"NKVQMHRSEMRPKFFSEHIISILNPHCVV\"\n",
    "\n",
    "# Process each PDB file\n",
    "for pdb_file in pdb_files:\n",
    "    pdb_file_path = os.path.join(pdb_directory, pdb_file)\n",
    "    df = run_dssp(pdb_file_path)\n",
    "\n",
    "    # Filter DataFrame for the given sequence\n",
    "    filtered_df = df[df['aa'].isin(list(sequence))]\n",
    "\n",
    "    # Display RSA values for the given sequence\n",
    "    print(f\"RSA values for sequence {sequence} in {pdb_file}:\")\n",
    "    display(filtered_df[['dssp_index', 'chain', 'aa', 'rsa']])\n"
   ]
  }
 ],
 "metadata": {
  "kernelspec": {
   "display_name": "ml",
   "language": "python",
   "name": "python3"
  },
  "language_info": {
   "codemirror_mode": {
    "name": "ipython",
    "version": 3
   },
   "file_extension": ".py",
   "mimetype": "text/x-python",
   "name": "python",
   "nbconvert_exporter": "python",
   "pygments_lexer": "ipython3",
   "version": "3.10.14"
  }
 },
 "nbformat": 4,
 "nbformat_minor": 2
}
