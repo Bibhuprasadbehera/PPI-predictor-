{
 "cells": [
  {
   "cell_type": "markdown",
   "metadata": {},
   "source": [
    "Modify sample DSSP files to have a placeholder interaction score for now"
   ]
  },
  {
   "cell_type": "code",
   "execution_count": 10,
   "metadata": {},
   "outputs": [],
   "source": [
    "import os\n",
    "import pandas as pd\n",
    "\n",
    "def modify_dssp_files(data_dir):\n",
    "    for file in os.listdir(data_dir):\n",
    "        if file.endswith('_dssp.csv'):\n",
    "            file_path = os.path.join(data_dir, file)\n",
    "            df = pd.read_csv(file_path)\n",
    "            df['test_interaction_score'] = df['rsa'].apply(lambda x: 1 if x > 0.25 else 0)\n",
    "            df.to_csv(file_path, index=False)\n",
    "\n",
    "# Construct the relative path to the data directory\n",
    "data_dir = os.path.join(os.getcwd(), '..', 'data')\n",
    "\n",
    "# Modify the DSSP files in the data directory\n",
    "modify_dssp_files(data_dir)"
   ]
  },
  {
   "cell_type": "code",
   "execution_count": 11,
   "metadata": {},
   "outputs": [],
   "source": [
    "import os\n",
    "import pandas as pd\n",
    "import numpy as np\n",
    "\n",
    "def sigmoid(x):\n",
    "    return 1 / (1 + np.exp(-x))\n",
    "\n",
    "def modify_dssp_files(data_dir):\n",
    "    for file in os.listdir(data_dir):\n",
    "        if file.endswith('_dssp.csv'):\n",
    "            file_path = os.path.join(data_dir, file)\n",
    "            df = pd.read_csv(file_path)\n",
    "\n",
    "            # Apply a transformation to create a more normal distribution\n",
    "            df['test_interaction_score'] = df['rsa'].apply(lambda x: sigmoid(x * 10 - 5))\n",
    "\n",
    "            df.to_csv(file_path, index=False)\n",
    "\n",
    "# Construct the relative path to the data directory\n",
    "data_dir = os.path.join(os.getcwd(), '..', 'data')\n",
    "\n",
    "# Modify the DSSP files in the data directory\n",
    "modify_dssp_files(data_dir)"
   ]
  },
  {
   "cell_type": "markdown",
   "metadata": {},
   "source": [
    "If u want to REMOVE that PLACEHOLDER please run the cell below to remove the interaction score from DSSP files"
   ]
  },
  {
   "cell_type": "code",
   "execution_count": 8,
   "metadata": {},
   "outputs": [
    {
     "name": "stdout",
     "output_type": "stream",
     "text": [
      "Columns in 1B41_dssp.csv: ['dssp_index', 'Protein_id', 'chain', 'aa', 'eight_hot_ss', 'three_hot_ss', 'rsa', 'phi', 'psi', 'test_interaction_score']\n",
      "Columns in 2ACH_dssp.csv: ['dssp_index', 'Protein_id', 'chain', 'aa', 'eight_hot_ss', 'three_hot_ss', 'rsa', 'phi', 'psi', 'test_interaction_score']\n",
      "Columns in 2OYI_dssp.csv: ['dssp_index', 'Protein_id', 'chain', 'aa', 'eight_hot_ss', 'three_hot_ss', 'rsa', 'phi', 'psi', 'test_interaction_score']\n",
      "Columns in 2WII_dssp.csv: ['dssp_index', 'Protein_id', 'chain', 'aa', 'eight_hot_ss', 'three_hot_ss', 'rsa', 'phi', 'psi', 'test_interaction_score']\n",
      "Columns in 2XWT_dssp.csv: ['dssp_index', 'Protein_id', 'chain', 'aa', 'eight_hot_ss', 'three_hot_ss', 'rsa', 'phi', 'psi', 'test_interaction_score']\n",
      "Columns in 2A74_dssp.csv: ['dssp_index', 'Protein_id', 'chain', 'aa', 'eight_hot_ss', 'three_hot_ss', 'rsa', 'phi', 'psi', 'test_interaction_score']\n",
      "Columns in 2B4X_dssp.csv: ['dssp_index', 'Protein_id', 'chain', 'aa', 'eight_hot_ss', 'three_hot_ss', 'rsa', 'phi', 'psi', 'test_interaction_score']\n",
      "Columns in 3HRZ_dssp.csv: ['dssp_index', 'Protein_id', 'chain', 'aa', 'eight_hot_ss', 'three_hot_ss', 'rsa', 'phi', 'psi', 'test_interaction_score']\n",
      "Columns in 5HCD_dssp.csv: ['dssp_index', 'Protein_id', 'chain', 'aa', 'eight_hot_ss', 'three_hot_ss', 'rsa', 'phi', 'psi', 'test_interaction_score']\n",
      "Columns in 6D64_dssp.csv: ['dssp_index', 'Protein_id', 'chain', 'aa', 'eight_hot_ss', 'three_hot_ss', 'rsa', 'phi', 'psi', 'test_interaction_score']\n"
     ]
    }
   ],
   "source": [
    "import os\n",
    "import pandas as pd\n",
    "\n",
    "def print_and_remove_columns(data_dir, columns_to_remove):\n",
    "    for file in os.listdir(data_dir):\n",
    "        if file.endswith('_dssp.csv'):\n",
    "            file_path = os.path.join(data_dir, file)\n",
    "            df = pd.read_csv(file_path)\n",
    "            print(f\"Columns in {file}: {df.columns.tolist()}\")\n",
    "\n",
    "            # Remove specified columns if they exist in the DataFrame\n",
    "            for column in columns_to_remove:\n",
    "                if column in df.columns:\n",
    "                    df = df.drop(columns=[column])\n",
    "\n",
    "            df.to_csv(file_path, index=False)\n",
    "\n",
    "# Construct the relative path to the data directory\n",
    "data_dir = os.path.join(os.getcwd(), '..', 'data')\n",
    "\n",
    "# Print the columns and specify the columns to remove\n",
    "columns_to_remove = ['test_interaction_score']  # Add more column names if needed\n",
    "print_and_remove_columns(data_dir, columns_to_remove)"
   ]
  },
  {
   "cell_type": "markdown",
   "metadata": {},
   "source": [
    "code to ADD physicochemical properties to the dssp files\n"
   ]
  },
  {
   "cell_type": "code",
   "execution_count": 27,
   "metadata": {},
   "outputs": [],
   "source": [
    "import os\n",
    "import pandas as pd\n",
    "\n",
    "def load_physicochemical_properties(file_path):\n",
    "    df = pd.read_csv(file_path)\n",
    "    df.set_index('Index', inplace=True)\n",
    "    return df\n",
    "\n",
    "def modify_dssp_files(data_dir, physicochemical_properties):\n",
    "    for file in os.listdir(data_dir):\n",
    "        if file.endswith('_dssp.csv'):\n",
    "            file_path = os.path.join(data_dir, file)\n",
    "            df = pd.read_csv(file_path)\n",
    "\n",
    "            # Add new columns for each physicochemical property\n",
    "            for property_name in physicochemical_properties.index:\n",
    "                df[property_name] = df['aa'].apply(lambda aa: physicochemical_properties.loc[property_name, aa])\n",
    "\n",
    "            df.to_csv(file_path, index=False)\n",
    "\n",
    "# Construct the relative path to the data directory\n",
    "data_dir = os.path.join(os.getcwd(), '..', 'data')  # Updated to match the correct relative path\n",
    "\n",
    "# Load the physicochemical properties\n",
    "physicochemical_properties_file = os.path.join(data_dir, 'physicochemical_properties.csv')\n",
    "physicochemical_properties = load_physicochemical_properties(physicochemical_properties_file)\n",
    "\n",
    "# Modify the DSSP files in the data directory\n",
    "modify_dssp_files(data_dir, physicochemical_properties)"
   ]
  },
  {
   "cell_type": "markdown",
   "metadata": {},
   "source": [
    "code to REMOVE physicochemical properties from the dssp files"
   ]
  },
  {
   "cell_type": "code",
   "execution_count": 26,
   "metadata": {},
   "outputs": [],
   "source": [
    "import os\n",
    "import pandas as pd\n",
    "\n",
    "def load_physicochemical_properties(file_path):\n",
    "    return pd.read_csv(file_path).set_index('Index')\n",
    "\n",
    "def remove_physicochemical_columns(data_dir, physicochemical_properties):\n",
    "    for file in os.listdir(data_dir):\n",
    "        if file.endswith('_dssp.csv'):\n",
    "            file_path = os.path.join(data_dir, file)\n",
    "            df = pd.read_csv(file_path)\n",
    "\n",
    "            # Remove the columns corresponding to physicochemical properties\n",
    "            for property_name in physicochemical_properties.index:\n",
    "                if property_name in df.columns:\n",
    "                    df.drop(columns=[property_name], inplace=True)\n",
    "\n",
    "            df.to_csv(file_path, index=False)\n",
    "\n",
    "# Construct the relative path to the data directory\n",
    "data_dir = os.path.join(os.getcwd(), '..', 'data')\n",
    "\n",
    "# Load the physicochemical properties\n",
    "physicochemical_properties_file = os.path.join(data_dir, 'physicochemical_properties.csv')\n",
    "physicochemical_properties = load_physicochemical_properties(physicochemical_properties_file)\n",
    "\n",
    "# Remove the physicochemical columns from the DSSP files in the data directory\n",
    "remove_physicochemical_columns(data_dir, physicochemical_properties)"
   ]
  }
 ],
 "metadata": {
  "kernelspec": {
   "display_name": "Python 3 (ipykernel)",
   "language": "python",
   "name": "python3"
  },
  "language_info": {
   "codemirror_mode": {
    "name": "ipython",
    "version": 3
   },
   "file_extension": ".py",
   "mimetype": "text/x-python",
   "name": "python",
   "nbconvert_exporter": "python",
   "pygments_lexer": "ipython3",
   "version": "3.11.9"
  }
 },
 "nbformat": 4,
 "nbformat_minor": 4
}
