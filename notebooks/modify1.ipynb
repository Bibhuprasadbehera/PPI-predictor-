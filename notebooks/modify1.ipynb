{
 "cells": [
  {
   "cell_type": "markdown",
   "metadata": {},
   "source": [
    "Modify sample DSSP files to have a placeholder interaction score for now"
   ]
  },
  {
   "cell_type": "code",
   "execution_count": 24,
   "metadata": {},
   "outputs": [],
   "source": [
    "import os\n",
    "import pandas as pd\n",
    "\n",
    "def modify_dssp_files(data_dir):\n",
    "    for file in os.listdir(data_dir):\n",
    "        if file.endswith('_dssp.csv'):\n",
    "            file_path = os.path.join(data_dir, file)\n",
    "            df = pd.read_csv(file_path)\n",
    "            df['test_interaction_score'] = df['rsa'].apply(lambda x: 1 if x > 0.7 else 0)\n",
    "            df.to_csv(file_path, index=False)\n",
    "\n",
    "# Construct the relative path to the data directory\n",
    "data_dir = os.path.join(os.getcwd(), '..', 'data')\n",
    "\n",
    "# Modify the DSSP files in the data directory\n",
    "modify_dssp_files(data_dir)\n"
   ]
  },
  {
   "cell_type": "markdown",
   "metadata": {},
   "source": [
    "If u want to remove that placeholder please run the cell below"
   ]
  },
  {
   "cell_type": "code",
   "execution_count": 23,
   "metadata": {},
   "outputs": [
    {
     "name": "stdout",
     "output_type": "stream",
     "text": [
      "Columns in 1B41_dssp.csv: ['dssp_index', 'Protein_id', 'chain', 'aa', 'eight_hot_ss', 'three_hot_ss', 'rsa', 'phi', 'psi']\n",
      "Columns in 2A74_dssp.csv: ['dssp_index', 'Protein_id', 'chain', 'aa', 'eight_hot_ss', 'three_hot_ss', 'rsa', 'phi', 'psi']\n",
      "Columns in 2ACH_dssp.csv: ['dssp_index', 'Protein_id', 'chain', 'aa', 'eight_hot_ss', 'three_hot_ss', 'rsa', 'phi', 'psi']\n",
      "Columns in 2B4X_dssp.csv: ['dssp_index', 'Protein_id', 'chain', 'aa', 'eight_hot_ss', 'three_hot_ss', 'rsa', 'phi', 'psi']\n",
      "Columns in 2OYI_dssp.csv: ['dssp_index', 'Protein_id', 'chain', 'aa', 'eight_hot_ss', 'three_hot_ss', 'rsa', 'phi', 'psi']\n",
      "Columns in 2WII_dssp.csv: ['dssp_index', 'Protein_id', 'chain', 'aa', 'eight_hot_ss', 'three_hot_ss', 'rsa', 'phi', 'psi']\n",
      "Columns in 2XWT_dssp.csv: ['dssp_index', 'Protein_id', 'chain', 'aa', 'eight_hot_ss', 'three_hot_ss', 'rsa', 'phi', 'psi']\n",
      "Columns in 3HRZ_dssp.csv: ['dssp_index', 'Protein_id', 'chain', 'aa', 'eight_hot_ss', 'three_hot_ss', 'rsa', 'phi', 'psi']\n",
      "Columns in 5HCD_dssp.csv: ['dssp_index', 'Protein_id', 'chain', 'aa', 'eight_hot_ss', 'three_hot_ss', 'rsa', 'phi', 'psi']\n",
      "Columns in 6D64_dssp.csv: ['dssp_index', 'Protein_id', 'chain', 'aa', 'eight_hot_ss', 'three_hot_ss', 'rsa', 'phi', 'psi']\n"
     ]
    }
   ],
   "source": [
    "import os\n",
    "import pandas as pd\n",
    "\n",
    "def print_and_remove_columns(data_dir, columns_to_remove):\n",
    "    for file in os.listdir(data_dir):\n",
    "        if file.endswith('_dssp.csv'):\n",
    "            file_path = os.path.join(data_dir, file)\n",
    "            df = pd.read_csv(file_path)\n",
    "            print(f\"Columns in {file}: {df.columns.tolist()}\")\n",
    "\n",
    "            # Remove specified columns if they exist in the DataFrame\n",
    "            for column in columns_to_remove:\n",
    "                if column in df.columns:\n",
    "                    df = df.drop(columns=[column])\n",
    "\n",
    "            df.to_csv(file_path, index=False)\n",
    "\n",
    "# Construct the relative path to the data directory\n",
    "data_dir = os.path.join(os.getcwd(), '..', 'data')\n",
    "\n",
    "# Print the columns and specify the columns to remove\n",
    "columns_to_remove = ['test_interaction_score']  # Add more column names if needed\n",
    "print_and_remove_columns(data_dir, columns_to_remove)\n"
   ]
  }
 ],
 "metadata": {
  "kernelspec": {
   "display_name": "Python 3 (ipykernel)",
   "language": "python",
   "name": "python3"
  },
  "language_info": {
   "codemirror_mode": {
    "name": "ipython",
    "version": 3
   },
   "file_extension": ".py",
   "mimetype": "text/x-python",
   "name": "python",
   "nbconvert_exporter": "python",
   "pygments_lexer": "ipython3",
   "version": "3.9.7"
  }
 },
 "nbformat": 4,
 "nbformat_minor": 4
}
