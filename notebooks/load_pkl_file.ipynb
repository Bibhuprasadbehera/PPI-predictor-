{
 "cells": [
  {
   "cell_type": "code",
   "execution_count": 2,
   "metadata": {},
   "outputs": [
    {
     "name": "stdout",
     "output_type": "stream",
     "text": [
      "Sequences:\n",
      "IKEEHVIIQAEFYLNPDQSGEFMFDFDGDEIFHVDMAKKETVWRLEEFGRFASFEAQGALANIAVDKANLEIMTKRSNYTPITNVPPEVTVLTNSPVELREPNVLICFIDKFTPPVVNVTWLRNGKPVTTGVSETVFLPREDHLFRKFHYLPFLPSTEDVYDCRVEHWGLDEPLLKHWEFD\n",
      "QSVTQLGSHVSVSEGALVLLRCNYSSSVPPYLFWYVQYPNQGLQLLLKYTSAATLVKGINGFEAEFKKSETSFHLTKPSAHMSDAAEYFCAVSESPFGNEKLTFGTGTRLTIIPNIQNPDPAVYQLRDSKSSDKSVCLFTDFDSQTNVSQSKDSDVYITDKTVLDMRSMDFKSNSAVAWSNKSDFACANAFNNSIIPEDTFFPSPESSCDVK\n",
      "\n",
      "PSSM Arrays:\n",
      "[[-2 -4 -4 ... -3 -2  4]\n",
      " [ 0  2 -1 ... -4 -3 -2]\n",
      " [ 1 -2 -2 ... -5 -4 -4]\n",
      " ...\n",
      " [-2  1  2 ... -5 -4 -2]\n",
      " [-4  3 -4 ... -5 -1 -5]\n",
      " [-3 -2  5 ... -5 -4 -5]]\n",
      "[[-4 -2 -3 ... -5 -5 -5]\n",
      " [-4 -2 -2 ... -6 -6 -4]\n",
      " [-6 -8 -8 ... -8 -7  6]\n",
      " ...\n",
      " [-3 -2  2 ...  2 -3 -4]\n",
      " [-2 -4 -4 ... -4 -3  5]\n",
      " [-2  1 -1 ... -4 -3 -3]]\n"
     ]
    }
   ],
   "source": [
    "import pickle\n",
    "import os\n",
    "\n",
    "# Path to the pickle file\n",
    "pickle_path = '/home/bibhuprasad/Documents/PPI prediction model/PPI-predictor-/data/pssm_matrix/1FYT_1_4.pssm.pkl'\n",
    "\n",
    "# Load the data from the pickle file\n",
    "with open(pickle_path, 'rb') as f:\n",
    "    sequences, pssm_arrays = pickle.load(f)\n",
    "\n",
    "# Output the results\n",
    "print(\"Sequences:\")\n",
    "for seq in sequences:\n",
    "    print(seq)\n",
    "\n",
    "print(\"\\nPSSM Arrays:\")\n",
    "for pssm_array in pssm_arrays:\n",
    "    print(pssm_array)"
   ]
  }
 ],
 "metadata": {
  "kernelspec": {
   "display_name": "ml",
   "language": "python",
   "name": "python3"
  },
  "language_info": {
   "codemirror_mode": {
    "name": "ipython",
    "version": 3
   },
   "file_extension": ".py",
   "mimetype": "text/x-python",
   "name": "python",
   "nbconvert_exporter": "python",
   "pygments_lexer": "ipython3",
   "version": "3.10.14"
  }
 },
 "nbformat": 4,
 "nbformat_minor": 2
}
