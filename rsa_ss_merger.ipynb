{
 "cells": [
  {
   "cell_type": "code",
   "execution_count": 1,
   "metadata": {},
   "outputs": [
    {
     "name": "stdout",
     "output_type": "stream",
     "text": [
      "Successfully merged files:\n",
      "1HQ3_1_2_dssp.csv\n",
      "1HLU_1_2_dssp.csv\n",
      "1HLE_1_2_dssp.csv\n",
      "1FYT_2_4_dssp.csv\n",
      "1FYT_1_4_dssp.csv\n",
      "1A0R_2_3_dssp.csv\n",
      "2WII_1_3_dssp.csv\n",
      "1FZC_1_2_dssp.csv\n",
      "2WII_2_3_dssp.csv\n",
      "1G0U_10_7_dssp.csv\n",
      "\n",
      "Failed to merge files:\n"
     ]
    }
   ],
   "source": [
    "import pandas as pd\n",
    "import os\n",
    "\n",
    "# Directories\n",
    "rsa_dir = 'data/rsa'\n",
    "ss_dir = 'data/ss'\n",
    "output_dir = 'data'\n",
    "\n",
    "# Lists to store successful and failed files\n",
    "successful_files = []\n",
    "failed_files = []\n",
    "\n",
    "# Loop through RSA files\n",
    "for rsa_file in os.listdir(rsa_dir):\n",
    "    # Use the full file name as the prefix, excluding the extension\n",
    "    prefix = rsa_file.rsplit('.', 1)[0]\n",
    "\n",
    "    try:\n",
    "        # Load RSA data\n",
    "        rsa_df = pd.read_csv(os.path.join(rsa_dir, rsa_file), sep='\\t')\n",
    "\n",
    "        # Find corresponding SS file with the exact same prefix\n",
    "        ss_file = [f for f in os.listdir(ss_dir) if f.startswith(prefix) and f.endswith('_ss.tsv')][0]\n",
    "\n",
    "        # Load SS data\n",
    "        ss_df = pd.read_csv(os.path.join(ss_dir, ss_file), sep='\\t')\n",
    "\n",
    "        # Merge dataframes\n",
    "        merged_df = pd.merge(rsa_df, ss_df, on=['dssp_index', 'aa'])\n",
    "\n",
    "        # Add protein name column\n",
    "        merged_df['Protein_id'] = prefix\n",
    "\n",
    "        # Reorder columns\n",
    "        merged_df = merged_df[['dssp_index', 'Protein_id', 'chain', 'aa', 'eight_hot_ss', 'three_hot_ss', 'rsa', 'phi', 'psi']]\n",
    "\n",
    "        # Save to CSV\n",
    "        output_file = prefix + '_dssp.csv'\n",
    "        merged_df.to_csv(os.path.join(output_dir, output_file), index=False)\n",
    "\n",
    "        # Add to successful files list\n",
    "        successful_files.append(output_file)\n",
    "\n",
    "    except (FileNotFoundError, IndexError):\n",
    "        # Add to failed files list\n",
    "        failed_files.append(rsa_file)\n",
    "\n",
    "# Print successful files\n",
    "print(\"Successfully merged files:\")\n",
    "for file in successful_files:\n",
    "    print(file)\n",
    "\n",
    "# Print failed files\n",
    "print(\"\\nFailed to merge files:\")\n",
    "for file in failed_files:\n",
    "    print(file)\n"
   ]
  }
 ],
 "metadata": {
  "kernelspec": {
   "display_name": "ml",
   "language": "python",
   "name": "python3"
  },
  "language_info": {
   "codemirror_mode": {
    "name": "ipython",
    "version": 3
   },
   "file_extension": ".py",
   "mimetype": "text/x-python",
   "name": "python",
   "nbconvert_exporter": "python",
   "pygments_lexer": "ipython3",
   "version": "3.10.14"
  }
 },
 "nbformat": 4,
 "nbformat_minor": 4
}
